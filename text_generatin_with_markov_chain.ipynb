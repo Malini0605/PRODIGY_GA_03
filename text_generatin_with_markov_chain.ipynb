{
  "nbformat": 4,
  "nbformat_minor": 0,
  "metadata": {
    "colab": {
      "provenance": []
    },
    "kernelspec": {
      "name": "python3",
      "display_name": "Python 3"
    },
    "language_info": {
      "name": "python"
    }
  },
  "cells": [
    {
      "cell_type": "code",
      "execution_count": 4,
      "metadata": {
        "colab": {
          "base_uri": "https://localhost:8080/"
        },
        "id": "zT65gDfldlHe",
        "outputId": "83ad9708-74db-476f-aa2f-01ac23a0512b"
      },
      "outputs": [
        {
          "output_type": "stream",
          "name": "stdout",
          "text": [
            "AI. AI can be applied in healthcare, finance, and education.\n"
          ]
        }
      ],
      "source": [
        "import random\n",
        "\n",
        "class MCGen:\n",
        "    def __init__(self):\n",
        "        self.m = {}\n",
        "\n",
        "    def train(self, text, n=2):\n",
        "        w = text.split()\n",
        "        for i in range(len(w) - n):\n",
        "            p = tuple(w[i:i+n])\n",
        "            nx = w[i+n]\n",
        "            self.m.setdefault(p, []).append(nx)\n",
        "\n",
        "    def gen(self, l=20):\n",
        "        if not self.m:\n",
        "            return \"Model not trained\"\n",
        "        p = random.choice(list(self.m.keys()))\n",
        "        out = list(p)\n",
        "        for _ in range(l - len(p)):\n",
        "            if p in self.m:\n",
        "                nx = random.choice(self.m[p])\n",
        "                out.append(nx)\n",
        "                p = tuple(out[-len(p):])\n",
        "            else:\n",
        "                break\n",
        "        return \" \".join(out)\n",
        "\n",
        "\n",
        "if __name__ == \"__main__\":\n",
        "    txt = \"\"\"Artificial Intelligence is transforming the world.\n",
        "    Machine Learning and Deep Learning are subsets of AI.\n",
        "    AI can be applied in healthcare, finance, and education.\"\"\"\n",
        "    g = MCGen()\n",
        "    g.train(txt, n=2)\n",
        "    print(g.gen(40))\n"
      ]
    },
    {
      "cell_type": "code",
      "source": [],
      "metadata": {
        "id": "mWwCqYNidqRP"
      },
      "execution_count": null,
      "outputs": []
    }
  ]
}